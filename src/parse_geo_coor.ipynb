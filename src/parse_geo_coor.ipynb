{
 "metadata": {
  "name": ""
 },
 "nbformat": 3,
 "nbformat_minor": 0,
 "worksheets": [
  {
   "cells": [
    {
     "cell_type": "code",
     "collapsed": false,
     "input": [
      "from geopy.geocoders import GoogleV3\n",
      "import numpy as np\n",
      "from time import sleep\n",
      "\n",
      "s_radds = np.loadtxt('data/suspect.csv', skiprows=1, delimiter=',', \n",
      "                 dtype={'names': ('date', 'address'),'formats': ('S10', 'S128')})\n",
      "\n",
      "geolocator = GoogleV3()\n",
      "\n",
      "s_radds_list = []\n",
      "for row in xrange(len(s_radds)):\n",
      "    print(s_radds[row][1])\n",
      "    a, (lat, lng) = geolocator.geocode(s_radds[row][1])\n",
      "    # sleep for 1.5 secs\n",
      "    sleep(1.5)\n",
      "    s_radds_list.append([row+1, s_radds[row][0], s_radds[row][1], lng, lat])\n"
     ],
     "language": "python",
     "metadata": {},
     "outputs": [
      {
       "output_type": "stream",
       "stream": "stdout",
       "text": [
        "\u53f0\u5317\u5e02\u58eb\u6797\u5340\u4e2d\u5c71\u5317\u8def\u4e03\u6bb5114\u5df763\u4e4b2\u865f2\u6a13\n",
        "\u53f0\u5317\u5e02\u58eb\u6797\u5340\u4e2d\u5c71\u5317\u8def\u4e03\u6bb5190\u5df7104-1\u865f"
       ]
      },
      {
       "output_type": "stream",
       "stream": "stdout",
       "text": [
        "\n",
        "\u53f0\u5317\u5e02\u58eb\u6797\u5340\u627f\u5fb7\u8def\u56db\u6bb5285\u865f11\u6a13"
       ]
      },
      {
       "output_type": "stream",
       "stream": "stdout",
       "text": [
        "\n",
        "\u53f0\u5317\u5e02\u58eb\u6797\u5340\u627f\u5fb7\u8def\u56db\u6bb56\u5df72\u865f5\u6a13"
       ]
      },
      {
       "output_type": "stream",
       "stream": "stdout",
       "text": [
        "\n",
        "\u53f0\u5317\u5e02\u5927\u540c\u5340\u6c11\u6b0a\u897f\u8def235\u865f\u4e8c\u6a13"
       ]
      },
      {
       "output_type": "stream",
       "stream": "stdout",
       "text": [
        "\n",
        "\u53f0\u5317\u5e02\u5927\u540c\u5340\u6c11\u6b0a\u897f\u8def235\u865f\u4e09\u6a13"
       ]
      },
      {
       "output_type": "stream",
       "stream": "stdout",
       "text": [
        "\n",
        "\u53f0\u5317\u5e02\u5927\u540c\u5340\u6c11\u6b0a\u897f\u8def235\u865f\u56db\u6a13"
       ]
      },
      {
       "output_type": "stream",
       "stream": "stdout",
       "text": [
        "\n",
        "\u53f0\u5317\u5e02\u5927\u540c\u5340\u6c11\u6b0a\u897f\u8def235\u865f\u4e94\u6a13"
       ]
      },
      {
       "output_type": "stream",
       "stream": "stdout",
       "text": [
        "\n",
        "\u53f0\u5317\u5e02\u5927\u5b89\u5340\u5927\u5b89\u8def\u4e00\u6bb516\u5df77\u4e4b1\u865f\u4e8c\u6a13"
       ]
      },
      {
       "output_type": "stream",
       "stream": "stdout",
       "text": [
        "\n",
        "\u53f0\u5317\u5e02\u5927\u5b89\u5340\u5b89\u5c45\u885734\u5df76\u865f\u4e94\u6a13"
       ]
      },
      {
       "output_type": "stream",
       "stream": "stdout",
       "text": [
        "\n",
        "\u53f0\u5317\u5e02\u5927\u5b89\u5340\u5b89\u5c45\u885749\u865f\u4e94\u6a13"
       ]
      },
      {
       "output_type": "stream",
       "stream": "stdout",
       "text": [
        "\n",
        "\u53f0\u5317\u5e02\u5927\u5b89\u5340\u5fe0\u5b5d\u6771\u8def\u56db\u6bb5205\u5df737\u865f\u516d\u6a13"
       ]
      },
      {
       "output_type": "stream",
       "stream": "stdout",
       "text": [
        "\n",
        "\u53f0\u5317\u5e02\u5927\u5b89\u5340\u5fe0\u5b5d\u6771\u8def\u56db\u6bb5205\u5df737\u865f\u4e03\u6a13"
       ]
      },
      {
       "output_type": "stream",
       "stream": "stdout",
       "text": [
        "\n",
        "\u53f0\u5317\u5e02\u5927\u5b89\u5340\u91d1\u5c71\u5357\u8def\u4e8c\u6bb5192\u5df731\u865f\u4e8c\u6a13"
       ]
      },
      {
       "output_type": "stream",
       "stream": "stdout",
       "text": [
        "\n",
        "\u53f0\u5317\u5e02\u4e2d\u5c71\u5340\u6797\u68ee\u5317\u8def133\u5df786\u865f"
       ]
      },
      {
       "output_type": "stream",
       "stream": "stdout",
       "text": [
        "\n",
        "\u53f0\u5317\u5e02\u4e2d\u5c71\u5340\u6797\u68ee\u5317\u8def133\u5df786\u865f\u5730\u4e0b\u6a13"
       ]
      },
      {
       "output_type": "stream",
       "stream": "stdout",
       "text": [
        "\n",
        "\u53f0\u5317\u5e02\u5167\u6e56\u5340\u91d1\u9f8d\u8def69\u865f\u4e09\u6a13"
       ]
      },
      {
       "output_type": "stream",
       "stream": "stdout",
       "text": [
        "\n",
        "\u53f0\u5317\u5e02\u5167\u6e56\u5340\u91d1\u9f8d\u8def73\u865f\u4e94\u6a13"
       ]
      },
      {
       "output_type": "stream",
       "stream": "stdout",
       "text": [
        "\n",
        "\u53f0\u5317\u5e02\u5167\u6e56\u5340\u6587\u5fb7\u8def207\u5df75\u5f046\u865f4\u6a13"
       ]
      },
      {
       "output_type": "stream",
       "stream": "stdout",
       "text": [
        "\n",
        "\u53f0\u5317\u5e02\u5167\u6e56\u5340\u6587\u5fb7\u8def219\u865f3\u6a13"
       ]
      },
      {
       "output_type": "stream",
       "stream": "stdout",
       "text": [
        "\n",
        "\u53f0\u5317\u5e02\u5167\u6e56\u5340\u6e2f\u83ef\u885717-1\u865f2\u6a13"
       ]
      },
      {
       "output_type": "stream",
       "stream": "stdout",
       "text": [
        "\n",
        "\u53f0\u5317\u5e02\u5167\u6e56\u5340\u6e2f\u83ef\u885719-1\u865f2\u6a13"
       ]
      },
      {
       "output_type": "stream",
       "stream": "stdout",
       "text": [
        "\n",
        "\u53f0\u5317\u5e02\u5167\u6e56\u5340\u6e2f\u83ef\u885751\u5df73\u5f045\u865f1\u6a13"
       ]
      },
      {
       "output_type": "stream",
       "stream": "stdout",
       "text": [
        "\n",
        "\u53f0\u5317\u5e02\u5167\u6e56\u5340\u74b0\u5c71\u8def\u4e8c\u6bb5109\u5df78\u5f0414\u865f2\u6a13"
       ]
      },
      {
       "output_type": "stream",
       "stream": "stdout",
       "text": [
        "\n",
        "\u53f0\u5317\u5e02\u5167\u6e56\u5340\u9e97\u5c71\u8857322-1\u865f5\u6a13"
       ]
      },
      {
       "output_type": "stream",
       "stream": "stdout",
       "text": [
        "\n",
        "\u53f0\u5317\u5e02\u5167\u6e56\u5340\u9e97\u5c71\u8857348\u5df71\u865f5\u6a13"
       ]
      },
      {
       "output_type": "stream",
       "stream": "stdout",
       "text": [
        "\n",
        "\u53f0\u5317\u5e02\u5167\u6e56\u5340\u9e97\u5c71\u8857348\u5df723\u865f2\u6a13"
       ]
      },
      {
       "output_type": "stream",
       "stream": "stdout",
       "text": [
        "\n",
        "\u53f0\u5317\u5e02\u6587\u5c71\u5340\u8208\u9686\u8def\u4e09\u6bb5185\u5df73\u5f041\u865f1\u6a13"
       ]
      },
      {
       "output_type": "stream",
       "stream": "stdout",
       "text": [
        "\n",
        "\u53f0\u5317\u5e02\u6587\u5c71\u5340\u8208\u9686\u8def\u4e09\u6bb5185\u5df79\u5f048\u865f3\u6a13"
       ]
      },
      {
       "output_type": "stream",
       "stream": "stdout",
       "text": [
        "\n",
        "\u53f0\u5317\u5e02\u6587\u5c71\u5340\u8208\u9686\u8def\u4e09\u6bb5185\u5df711\u5f0414\u865f4\u6a13"
       ]
      },
      {
       "output_type": "stream",
       "stream": "stdout",
       "text": [
        "\n",
        "\u53f0\u5317\u5e02\u5317\u6295\u5340\u4e2d\u592e\u5317\u8def\u56db\u6bb5130\u865f\u4e8c\u6a13"
       ]
      },
      {
       "output_type": "stream",
       "stream": "stdout",
       "text": [
        "\n",
        "\u53f0\u5317\u5e02\u5317\u6295\u5340\u4e2d\u592e\u5317\u8def\u56db\u6bb5346\u865f\u4e94\u6a13"
       ]
      },
      {
       "output_type": "stream",
       "stream": "stdout",
       "text": [
        "\n",
        "\u53f0\u5317\u5e02\u5317\u6295\u5340\u4e2d\u592e\u5317\u8def\u56db\u6bb5360\u865f\u4e09\u6a13"
       ]
      },
      {
       "output_type": "stream",
       "stream": "stdout",
       "text": [
        "\n",
        "\u53f0\u5317\u5e02\u5317\u6295\u5340\u4e2d\u592e\u5317\u8def\u56db\u6bb5366\u865f"
       ]
      },
      {
       "output_type": "stream",
       "stream": "stdout",
       "text": [
        "\n",
        "\u53f0\u5317\u5e02\u5317\u6295\u5340\u884c\u7fa9\u8def186\u5df724\u865f2\u6a13"
       ]
      },
      {
       "output_type": "stream",
       "stream": "stdout",
       "text": [
        "\n",
        "\u53f0\u5317\u5e02\u5317\u6295\u5340\u897f\u5b89\u8857\u4e00\u6bb5313\u5df716\u5f0432\u4e4b1\u865f"
       ]
      },
      {
       "output_type": "stream",
       "stream": "stdout",
       "text": [
        "\n",
        "\u53f0\u5317\u5e02\u5317\u6295\u5340\u6eab\u6cc9\u8def132\u4e4b5\u865f\u56db\u6a13"
       ]
      },
      {
       "output_type": "stream",
       "stream": "stdout",
       "text": [
        "\n",
        "\u53f0\u5317\u5e02\u5317\u6295\u5340\u6eab\u6cc9\u8def132\u4e4b7\u865f"
       ]
      },
      {
       "output_type": "stream",
       "stream": "stdout",
       "text": [
        "\n",
        "\u53f0\u5317\u5e02\u5317\u6295\u5340\u6eab\u6cc9\u8def132\u4e4b10\u865f\u4e8c\u6a13"
       ]
      },
      {
       "output_type": "stream",
       "stream": "stdout",
       "text": [
        "\n",
        "\u53f0\u5317\u5e02\u5317\u6295\u5340\u6eab\u6cc9\u8def132\u4e4b10\u865f\u56db\u6a13"
       ]
      },
      {
       "output_type": "stream",
       "stream": "stdout",
       "text": [
        "\n",
        "\u53f0\u5317\u5e02\u677e\u5c71\u5340\u516b\u5fb7\u8def\u4e09\u6bb5199\u5df719\u865f5\u6a13\u4e4b1"
       ]
      },
      {
       "output_type": "stream",
       "stream": "stdout",
       "text": [
        "\n",
        "\u53f0\u5317\u5e02\u677e\u5c71\u5340\u516b\u5fb7\u8def\u4e09\u6bb5199\u5df721\u865f3\u6a13\u4e4b8"
       ]
      },
      {
       "output_type": "stream",
       "stream": "stdout",
       "text": [
        "\n",
        "\u53f0\u5317\u5e02\u677e\u5c71\u5340\u516b\u5fb7\u8def\u4e09\u6bb5199\u5df721\u865f4\u6a13\u4e4b6"
       ]
      },
      {
       "output_type": "stream",
       "stream": "stdout",
       "text": [
        "\n",
        "\u53f0\u5317\u5e02\u4fe1\u7fa9\u5340\u548c\u5e73\u6771\u8def\u4e09\u6bb5195\u865f"
       ]
      },
      {
       "output_type": "stream",
       "stream": "stdout",
       "text": [
        "\n",
        "\u53f0\u5317\u5e02\u4fe1\u7fa9\u5340\u548c\u5e73\u6771\u8def\u4e09\u6bb5195\u865f\u4e8c\u6a13"
       ]
      },
      {
       "output_type": "stream",
       "stream": "stdout",
       "text": [
        "\n",
        "\u53f0\u5317\u5e02\u5357\u6e2f\u5340\u7814\u7a76\u9662\u8def\u4e8c\u6bb52\u5df712\u5f0415\u865f\u4e8c\u6a13"
       ]
      },
      {
       "output_type": "stream",
       "stream": "stdout",
       "text": [
        "\n",
        "\u53f0\u5317\u5e02\u5357\u6e2f\u5340\u7814\u7a76\u9662\u8def\u4e8c\u6bb534\u5df719\u4e4b1\u865f5\u6a13"
       ]
      },
      {
       "output_type": "stream",
       "stream": "stdout",
       "text": [
        "\n",
        "\u53f0\u5317\u5e02\u842c\u83ef\u5340\u5eb7\u5b9a\u8def346\u865f\u4e8c\u6a13"
       ]
      },
      {
       "output_type": "stream",
       "stream": "stdout",
       "text": [
        "\n",
        "\u53f0\u5317\u5e02\u842c\u83ef\u5340\u842c\u9752\u8857102\u865f"
       ]
      },
      {
       "output_type": "stream",
       "stream": "stdout",
       "text": [
        "\n",
        "\u53f0\u5317\u5e02\u842c\u83ef\u5340\u74b0\u6cb3\u5357\u8def\u4e8c\u6bb5125\u5df715\u5f046\u865f\u4e94\u6a13"
       ]
      },
      {
       "output_type": "stream",
       "stream": "stdout",
       "text": [
        "\n",
        "\u53f0\u5317\u5e02\u842c\u83ef\u5340\u74b0\u6cb3\u5357\u8def\u4e8c\u6bb5125\u5df715\u5f048\u865f"
       ]
      },
      {
       "output_type": "stream",
       "stream": "stdout",
       "text": [
        "\n",
        "\u65b0\u5317\u5e02\u4e09\u91cd\u5340\u5927\u540c\u5357\u8def134\u5df71\u865f"
       ]
      },
      {
       "output_type": "stream",
       "stream": "stdout",
       "text": [
        "\n",
        "\u65b0\u5317\u5e02\u4e09\u91cd\u5340\u4ec1\u5fe0\u885731\u5df78\u5f0443\u865f\u4e09\u6a13"
       ]
      },
      {
       "output_type": "stream",
       "stream": "stdout",
       "text": [
        "\n",
        "\u65b0\u5317\u5e02\u4e09\u91cd\u5340\u81ea\u5f37\u8def\u4e00\u6bb5220\u5df74\u865f\u56db\u6a13"
       ]
      },
      {
       "output_type": "stream",
       "stream": "stdout",
       "text": [
        "\n",
        "\u65b0\u5317\u5e02\u4e09\u91cd\u5340\u81ea\u5f37\u8def\u4e00\u6bb5220\u5df76\u865f\u56db\u6a13"
       ]
      },
      {
       "output_type": "stream",
       "stream": "stdout",
       "text": [
        "\n",
        "\u65b0\u5317\u5e02\u4e09\u91cd\u5340\u81ea\u5f37\u8def\u4e00\u6bb561\u865f\u4e8c\u6a13"
       ]
      },
      {
       "output_type": "stream",
       "stream": "stdout",
       "text": [
        "\n",
        "\u65b0\u5317\u5e02\u4e09\u91cd\u5340\u81ea\u5f37\u8def\u4e00\u6bb561\u865f\u4e09\u6a13"
       ]
      },
      {
       "output_type": "stream",
       "stream": "stdout",
       "text": [
        "\n",
        "\u65b0\u5317\u5e02\u4e09\u91cd\u5340\u9802\u5d01\u8857210\u5df713\u865f\u4e09\u6a13"
       ]
      },
      {
       "output_type": "stream",
       "stream": "stdout",
       "text": [
        "\n",
        "\u65b0\u5317\u5e02\u571f\u57ce\u5340\u4e9e\u6d32\u8def108\u5df71\u5f0431\u865f"
       ]
      },
      {
       "output_type": "stream",
       "stream": "stdout",
       "text": [
        "\n",
        "\u65b0\u5317\u5e02\u571f\u57ce\u5340\u4e9e\u6d32\u8def108\u5df71\u5f0441\u865f"
       ]
      },
      {
       "output_type": "stream",
       "stream": "stdout",
       "text": [
        "\n",
        "\u65b0\u5317\u5e02\u571f\u57ce\u5340\u5ef6\u5cf0\u885716\u865f\u56db\u6a13"
       ]
      },
      {
       "output_type": "stream",
       "stream": "stdout",
       "text": [
        "\n",
        "\u65b0\u5317\u5e02\u571f\u57ce\u5340\u5357\u5929\u6bcd\u8def137\u4e4b9\u865f\u4e09\u6a13"
       ]
      },
      {
       "output_type": "stream",
       "stream": "stdout",
       "text": [
        "\n",
        "\u65b0\u5317\u5e02\u571f\u57ce\u5340\u5ee3\u660e\u885732\u865f\u56db\u6a13"
       ]
      },
      {
       "output_type": "stream",
       "stream": "stdout",
       "text": [
        "\n",
        "\u65b0\u5317\u5e02\u4e2d\u548c\u5340\u6c11\u5fb7\u8def25\u5df77\u5f045\u865f\u4e94\u6a13"
       ]
      },
      {
       "output_type": "stream",
       "stream": "stdout",
       "text": [
        "\n",
        "\u65b0\u5317\u5e02\u4e2d\u548c\u5340\u6c11\u5fb7\u8def25\u5df77\u5f046\u865f\u56db\u6a13"
       ]
      },
      {
       "output_type": "stream",
       "stream": "stdout",
       "text": [
        "\n",
        "\u65b0\u5317\u5e02\u4e2d\u548c\u5340\u6c11\u5fb7\u8def25\u5df77\u5f049\u865f\u4e8c\u6a13"
       ]
      },
      {
       "output_type": "stream",
       "stream": "stdout",
       "text": [
        "\n",
        "\u65b0\u5317\u5e02\u4e2d\u548c\u5340\u5b89\u548c\u8def209\u865f\u4e94\u6a13"
       ]
      },
      {
       "output_type": "stream",
       "stream": "stdout",
       "text": [
        "\n",
        "\u65b0\u5317\u5e02\u4e2d\u548c\u5340\u79c0\u6717\u8def\u4e09\u6bb5163\u5df74\u4e4b2\u865f"
       ]
      },
      {
       "output_type": "stream",
       "stream": "stdout",
       "text": [
        "\n",
        "\u65b0\u5317\u5e02\u6c38\u548c\u5340\u6c11\u6a02\u885738\u865f\u56db\u6a13"
       ]
      },
      {
       "output_type": "stream",
       "stream": "stdout",
       "text": [
        "\n",
        "\u65b0\u5317\u5e02\u6c38\u548c\u5340\u798f\u548c\u8def290\u865f"
       ]
      },
      {
       "output_type": "stream",
       "stream": "stdout",
       "text": [
        "\n",
        "\u65b0\u5317\u5e02\u6c38\u548c\u5340\u6797\u68ee\u8def114\u865f\u4e8c\u6a13"
       ]
      },
      {
       "output_type": "stream",
       "stream": "stdout",
       "text": [
        "\n",
        "\u65b0\u5317\u5e02\u6c38\u548c\u5340\u5fa9\u8208\u885736\u865f\u56db\u6a13"
       ]
      },
      {
       "output_type": "stream",
       "stream": "stdout",
       "text": [
        "\n",
        "\u65b0\u5317\u5e02\u6c38\u548c\u5340\u5fa9\u8208\u885738\u865f\u56db\u6a13"
       ]
      },
      {
       "output_type": "stream",
       "stream": "stdout",
       "text": [
        "\n",
        "\u65b0\u5317\u5e02\u677f\u6a4b\u5340\u91cd\u6176\u8def290\u5df711\u4e4b2\u865f"
       ]
      },
      {
       "output_type": "stream",
       "stream": "stdout",
       "text": [
        "\n",
        "\u65b0\u5317\u5e02\u677f\u6a4b\u5340\u570b\u6176\u8def149\u5df737\u5f046\u4e4b1\u865f"
       ]
      },
      {
       "output_type": "stream",
       "stream": "stdout",
       "text": [
        "\n",
        "\u65b0\u5317\u5e02\u677f\u6a4b\u5340\u570b\u6176\u8def149\u5df744\u5f046\u865f"
       ]
      },
      {
       "output_type": "stream",
       "stream": "stdout",
       "text": [
        "\n",
        "\u65b0\u5317\u5e02\u677f\u6a4b\u5340\u838a\u656c\u8def134\u4e4b3\u865f"
       ]
      },
      {
       "output_type": "stream",
       "stream": "stdout",
       "text": [
        "\n",
        "\u65b0\u5317\u5e02\u677f\u6a4b\u5340\u967d\u660e\u8857164\u5df736\u865f\u4e09\u6a13"
       ]
      },
      {
       "output_type": "stream",
       "stream": "stdout",
       "text": [
        "\n",
        "\u65b0\u5317\u5e02\u677f\u6a4b\u5340\u6eaa\u5d11\u4e8c\u885716\u5df710\u865f\u4e8c\u6a13"
       ]
      },
      {
       "output_type": "stream",
       "stream": "stdout",
       "text": [
        "\n",
        "\u65b0\u5317\u5e02\u677f\u6a4b\u5340\u6eaa\u5d11\u4e8c\u885716\u5df714\u865f"
       ]
      },
      {
       "output_type": "stream",
       "stream": "stdout",
       "text": [
        "\n",
        "\u65b0\u5317\u5e02\u677f\u6a4b\u5340\u6eaa\u5d11\u4e8c\u885716\u5df714\u865f\u4e8c\u6a13"
       ]
      },
      {
       "output_type": "stream",
       "stream": "stdout",
       "text": [
        "\n",
        "\u65b0\u5317\u5e02\u677f\u6a4b\u5340\u6eaa\u5d11\u4e8c\u885716\u5df74\u865f\u4e09\u6a13"
       ]
      },
      {
       "output_type": "stream",
       "stream": "stdout",
       "text": [
        "\n",
        "\u65b0\u5317\u5e02\u677f\u6a4b\u5340\u6eaa\u5d11\u4e8c\u885716\u5df78\u865f\u4e8c\u6a13"
       ]
      },
      {
       "output_type": "stream",
       "stream": "stdout",
       "text": [
        "\n",
        "\u65b0\u5317\u5e02\u677f\u6a4b\u5340\u9f8d\u6cc9\u885773\u5df74\u4e4b1\u865f"
       ]
      },
      {
       "output_type": "stream",
       "stream": "stdout",
       "text": [
        "\n",
        "\u65b0\u5317\u5e02\u677f\u6a4b\u5340\u9f8d\u6cc9\u885777\u865f"
       ]
      },
      {
       "output_type": "stream",
       "stream": "stdout",
       "text": [
        "\n",
        "\u65b0\u5317\u5e02\u677f\u6a4b\u5340\u9f8d\u6cc9\u885777\u4e4b4\u865f"
       ]
      },
      {
       "output_type": "stream",
       "stream": "stdout",
       "text": [
        "\n",
        "\u65b0\u5317\u5e02\u677f\u6a4b\u5340\u9f8d\u6cc9\u885779\u5df73\u4e4b3\u865f"
       ]
      },
      {
       "output_type": "stream",
       "stream": "stdout",
       "text": [
        "\n",
        "\u65b0\u5317\u5e02\u677f\u6a4b\u5340\u9f8d\u6cc9\u885785\u5df71\u4e4b1\u865f"
       ]
      },
      {
       "output_type": "stream",
       "stream": "stdout",
       "text": [
        "\n",
        "\u65b0\u5317\u5e02\u677f\u6a4b\u5340\u9f8d\u6cc9\u885785\u5df74\u4e4b2\u865f"
       ]
      },
      {
       "output_type": "stream",
       "stream": "stdout",
       "text": [
        "\n",
        "\u65b0\u5317\u5e02\u677f\u6a4b\u5340\u9f8d\u6cc9\u885785\u5df75\u4e4b4\u865f"
       ]
      },
      {
       "output_type": "stream",
       "stream": "stdout",
       "text": [
        "\n",
        "\u65b0\u5317\u5e02\u677f\u6a4b\u5340\u9f8d\u6cc9\u885787\u4e4b4\u865f"
       ]
      },
      {
       "output_type": "stream",
       "stream": "stdout",
       "text": [
        "\n",
        "\u65b0\u5317\u5e02\u677f\u6a4b\u5340\u9f8d\u6cc9\u885788\u4e4b4\u865f"
       ]
      },
      {
       "output_type": "stream",
       "stream": "stdout",
       "text": [
        "\n",
        "\u65b0\u5317\u5e02\u677f\u6a4b\u5340\u9f8d\u6cc9\u885797\u5df73\u4e4b1\u865f"
       ]
      },
      {
       "output_type": "stream",
       "stream": "stdout",
       "text": [
        "\n",
        "\u65b0\u5317\u5e02\u677f\u6a4b\u5340\u9f8d\u6cc9\u885797\u5df75\u4e4b2\u865f"
       ]
      },
      {
       "output_type": "stream",
       "stream": "stdout",
       "text": [
        "\n",
        "\u65b0\u5317\u5e02\u677f\u6a4b\u5340\u9f8d\u6cc9\u8857102\u4e4b4\u865f"
       ]
      },
      {
       "output_type": "stream",
       "stream": "stdout",
       "text": [
        "\n",
        "\u65b0\u5317\u5e02\u6de1\u6c34\u5340\u6a39\u6885\u575124\u4e4b1\u865f\u4e5d\u6a13"
       ]
      },
      {
       "output_type": "stream",
       "stream": "stdout",
       "text": [
        "\n",
        "\u65b0\u5317\u5e02\u6de1\u6c34\u5340\u6a39\u6885\u575127\u4e4b1\u865f\u56db\u6a13"
       ]
      },
      {
       "output_type": "stream",
       "stream": "stdout",
       "text": [
        "\n",
        "\u65b0\u5317\u5e02\u6de1\u6c34\u5340\u6a39\u6885\u575140\u865f\u5341\u6a13"
       ]
      },
      {
       "output_type": "stream",
       "stream": "stdout",
       "text": [
        "\n",
        "\u65b0\u5317\u5e02\u65b0\u5e97\u5340\u5409\u7965\u885711\u5df710\u865f"
       ]
      },
      {
       "output_type": "stream",
       "stream": "stdout",
       "text": [
        "\n",
        "\u65b0\u5317\u5e02\u65b0\u5e97\u5340\u5409\u7965\u885713\u5df736\u865f\u4e8c\u6a13"
       ]
      },
      {
       "output_type": "stream",
       "stream": "stdout",
       "text": [
        "\n",
        "\u65b0\u5317\u5e02\u65b0\u5e97\u5340\u5409\u7965\u885715\u5df714\u865f\u4e8c\u6a13"
       ]
      },
      {
       "output_type": "stream",
       "stream": "stdout",
       "text": [
        "\n",
        "\u65b0\u5317\u5e02\u65b0\u5e97\u5340\u5409\u7965\u885715\u5df730\u865f\u4e8c\u6a13"
       ]
      },
      {
       "output_type": "stream",
       "stream": "stdout",
       "text": [
        "\n",
        "\u65b0\u5317\u5e02\u65b0\u5e97\u5340\u5409\u7965\u885715\u5df740\u865f"
       ]
      },
      {
       "output_type": "stream",
       "stream": "stdout",
       "text": [
        "\n",
        "\u65b0\u5317\u5e02\u65b0\u5e97\u5340\u5409\u7965\u88577\u5df711\u865f"
       ]
      },
      {
       "output_type": "stream",
       "stream": "stdout",
       "text": [
        "\n",
        "\u65b0\u5317\u5e02\u65b0\u5e97\u5340\u5409\u7965\u88577\u5df724\u865f"
       ]
      },
      {
       "output_type": "stream",
       "stream": "stdout",
       "text": [
        "\n",
        "\u65b0\u5317\u5e02\u65b0\u5e97\u5340\u5409\u7965\u88577\u5df732\u865f\u4e8c\u6a13"
       ]
      },
      {
       "output_type": "stream",
       "stream": "stdout",
       "text": [
        "\n",
        "\u65b0\u5317\u5e02\u65b0\u5e97\u5340\u5409\u7965\u88577\u5df78\u865f"
       ]
      },
      {
       "output_type": "stream",
       "stream": "stdout",
       "text": [
        "\n",
        "\u65b0\u5317\u5e02\u65b0\u5e97\u5340\u5409\u7965\u88579\u5df714\u865f"
       ]
      },
      {
       "output_type": "stream",
       "stream": "stdout",
       "text": [
        "\n",
        "\u65b0\u5317\u5e02\u65b0\u5e97\u5340\u5409\u7965\u88579\u5df728\u865f\u4e8c\u6a13"
       ]
      },
      {
       "output_type": "stream",
       "stream": "stdout",
       "text": [
        "\n",
        "\u65b0\u5317\u5e02\u65b0\u5e97\u5340\u5409\u7965\u88579\u5df732\u865f\u4e8c\u6a13"
       ]
      },
      {
       "output_type": "stream",
       "stream": "stdout",
       "text": [
        "\n",
        "\u65b0\u5317\u5e02\u65b0\u5e97\u5340\u5409\u7965\u88579\u5df76\u865f\u4e8c\u6a13"
       ]
      },
      {
       "output_type": "stream",
       "stream": "stdout",
       "text": [
        "\n",
        "\u65b0\u5317\u5e02\u65b0\u5e97\u5340\u5409\u7965\u88579\u5df77\u865f\u4e09\u6a13"
       ]
      },
      {
       "output_type": "stream",
       "stream": "stdout",
       "text": [
        "\n",
        "\u65b0\u5317\u5e02\u65b0\u5e97\u5340\u5b89\u548c\u8def\u4e8c\u6bb5169\u5df717\u865f"
       ]
      },
      {
       "output_type": "stream",
       "stream": "stdout",
       "text": [
        "\n",
        "\u65b0\u5317\u5e02\u65b0\u5e97\u5340\u81ea\u7acb\u8857130\u5df72\u865f\u56db\u6a13"
       ]
      },
      {
       "output_type": "stream",
       "stream": "stdout",
       "text": [
        "\n",
        "\u65b0\u5317\u5e02\u65b0\u5e97\u5340\u73ab\u7470\u8def57\u5df747\u865f"
       ]
      },
      {
       "output_type": "stream",
       "stream": "stdout",
       "text": [
        "\n",
        "\u65b0\u5317\u5e02\u65b0\u838a\u5340\u4e2d\u5b89\u885726\u865f\u4e09\u6a13"
       ]
      },
      {
       "output_type": "stream",
       "stream": "stdout",
       "text": [
        "\n",
        "\u65b0\u5317\u5e02\u65b0\u838a\u5340\u4e2d\u5b89\u885728\u865f\u56db\u6a13"
       ]
      },
      {
       "output_type": "stream",
       "stream": "stdout",
       "text": [
        "\n",
        "\u65b0\u5317\u5e02\u65b0\u838a\u5340\u4e2d\u5b89\u885730\u865f\u56db\u6a13"
       ]
      },
      {
       "output_type": "stream",
       "stream": "stdout",
       "text": [
        "\n",
        "\u65b0\u5317\u5e02\u65b0\u838a\u5340\u4e2d\u5b89\u885732\u865f\u4e94\u6a13"
       ]
      },
      {
       "output_type": "stream",
       "stream": "stdout",
       "text": [
        "\n",
        "\u65b0\u5317\u5e02\u65b0\u838a\u5340\u4e2d\u5b89\u885734\u865f\u4e8c\u6a13"
       ]
      },
      {
       "output_type": "stream",
       "stream": "stdout",
       "text": [
        "\n",
        "\u65b0\u5317\u5e02\u65b0\u838a\u5340\u4e2d\u548c\u88579\u865f\u4e8c\u6a13"
       ]
      },
      {
       "output_type": "stream",
       "stream": "stdout",
       "text": [
        "\n",
        "\u65b0\u5317\u5e02\u65b0\u838a\u5340\u4e2d\u548c\u88579\u865f\u4e09\u6a13"
       ]
      },
      {
       "output_type": "stream",
       "stream": "stdout",
       "text": [
        "\n",
        "\u65b0\u5317\u5e02\u65b0\u838a\u5340\u4e2d\u548c\u88579\u865f\u4e94\u6a13"
       ]
      },
      {
       "output_type": "stream",
       "stream": "stdout",
       "text": [
        "\n",
        "\u65b0\u5317\u5e02\u65b0\u838a\u5340\u4e2d\u548c\u88579\u865f\u56db\u6a13"
       ]
      },
      {
       "output_type": "stream",
       "stream": "stdout",
       "text": [
        "\n",
        "\u65b0\u5317\u5e02\u65b0\u838a\u5340\u4e2d\u83ef\u8def\u4e8c\u6bb53\u5df73\u865f"
       ]
      },
      {
       "output_type": "stream",
       "stream": "stdout",
       "text": [
        "\n",
        "\u65b0\u5317\u5e02\u65b0\u838a\u5340\u4e2d\u83ef\u8def\u4e8c\u6bb545\u5df77\u865f\u56db\u6a13"
       ]
      },
      {
       "output_type": "stream",
       "stream": "stdout",
       "text": [
        "\n",
        "\u65b0\u5317\u5e02\u65b0\u838a\u5340\u6c11\u5b89\u897f\u8def75\u5df71\u865f\u56db\u6a13"
       ]
      },
      {
       "output_type": "stream",
       "stream": "stdout",
       "text": [
        "\n",
        "\u65b0\u5317\u5e02\u65b0\u838a\u5340\u6c11\u5b89\u897f\u8def75\u5df78\u865f\u56db\u6a13"
       ]
      },
      {
       "output_type": "stream",
       "stream": "stdout",
       "text": [
        "\n",
        "\u65b0\u5317\u5e02\u65b0\u838a\u5340\u6c11\u5b89\u897f\u8def75\u5df713\u865f\u4e09\u6a13"
       ]
      },
      {
       "output_type": "stream",
       "stream": "stdout",
       "text": [
        "\n",
        "\u65b0\u5317\u5e02\u65b0\u838a\u5340\u6c11\u5b89\u897f\u8def75\u5df715\u865f\u4e94\u6a13"
       ]
      },
      {
       "output_type": "stream",
       "stream": "stdout",
       "text": [
        "\n",
        "\u65b0\u5317\u5e02\u65b0\u838a\u5340\u6c11\u5b89\u897f\u8def75\u5df719\u865f\u4e94\u6a13"
       ]
      },
      {
       "output_type": "stream",
       "stream": "stdout",
       "text": [
        "\n",
        "\u65b0\u5317\u5e02\u65b0\u838a\u5340\u6c11\u5b89\u897f\u8def81\u5df711\u865f"
       ]
      },
      {
       "output_type": "stream",
       "stream": "stdout",
       "text": [
        "\n",
        "\u65b0\u5317\u5e02\u65b0\u838a\u5340\u6c11\u5b89\u897f\u8def81\u5df711\u865f\u56db\u6a13"
       ]
      },
      {
       "output_type": "stream",
       "stream": "stdout",
       "text": [
        "\n",
        "\u65b0\u5317\u5e02\u65b0\u838a\u5340\u5e78\u798f\u8def64\u5df73\u5f048\u4e4b4\u865f"
       ]
      },
      {
       "output_type": "stream",
       "stream": "stdout",
       "text": [
        "\n",
        "\u65b0\u5317\u5e02\u65b0\u838a\u5340\u5e78\u798f\u8def530\u865f"
       ]
      },
      {
       "output_type": "stream",
       "stream": "stdout",
       "text": [
        "\n",
        "\u65b0\u5317\u5e02\u65b0\u838a\u5340\u5e78\u798f\u8def70\u4e4b1\u865f"
       ]
      },
      {
       "output_type": "stream",
       "stream": "stdout",
       "text": [
        "\n",
        "\u65b0\u5317\u5e02\u65b0\u838a\u5340\u5e78\u798f\u8def74\u4e4b4\u865f"
       ]
      },
      {
       "output_type": "stream",
       "stream": "stdout",
       "text": [
        "\n",
        "\u65b0\u5317\u5e02\u65b0\u838a\u5340\u5e78\u798f\u8def76\u4e4b4\u865f"
       ]
      },
      {
       "output_type": "stream",
       "stream": "stdout",
       "text": [
        "\n",
        "\u65b0\u5317\u5e02\u65b0\u838a\u5340\u660c\u76db\u885776\u4e4b2\u865f"
       ]
      },
      {
       "output_type": "stream",
       "stream": "stdout",
       "text": [
        "\n",
        "\u65b0\u5317\u5e02\u65b0\u838a\u5340\u5f8c\u6e2f\u4e00\u8def74\u865f\u56db\u6a13"
       ]
      },
      {
       "output_type": "stream",
       "stream": "stdout",
       "text": [
        "\n",
        "\u65b0\u5317\u5e02\u65b0\u838a\u5340\u5fa9\u8208\u8def\u4e8c\u6bb5103\u4e4b4\u865f"
       ]
      },
      {
       "output_type": "stream",
       "stream": "stdout",
       "text": [
        "\n",
        "\u65b0\u5317\u5e02\u65b0\u838a\u5340\u5fa9\u8208\u8def\u4e8c\u6bb5107\u865f"
       ]
      },
      {
       "output_type": "stream",
       "stream": "stdout",
       "text": [
        "\n",
        "\u65b0\u5317\u5e02\u65b0\u838a\u5340\u5fa9\u8208\u8def\u4e8c\u6bb5121\u865f"
       ]
      },
      {
       "output_type": "stream",
       "stream": "stdout",
       "text": [
        "\n",
        "\u65b0\u5317\u5e02\u65b0\u838a\u5340\u5fa9\u8208\u8def\u4e8c\u6bb5132\u865f\u56db\u6a13"
       ]
      },
      {
       "output_type": "stream",
       "stream": "stdout",
       "text": [
        "\n",
        "\u65b0\u5317\u5e02\u65b0\u838a\u5340\u5fa9\u8208\u8def\u4e8c\u6bb5132\u865f\u4e94\u6a13"
       ]
      },
      {
       "output_type": "stream",
       "stream": "stdout",
       "text": [
        "\n",
        "\u65b0\u5317\u5e02\u6a39\u6797\u5340\u4e09\u4fca\u8857126\u5df729\u865f"
       ]
      },
      {
       "output_type": "stream",
       "stream": "stdout",
       "text": [
        "\n",
        "\u65b0\u5317\u5e02\u6a39\u6797\u5340\u4e09\u4fca\u8857131\u865f"
       ]
      },
      {
       "output_type": "stream",
       "stream": "stdout",
       "text": [
        "\n",
        "\u65b0\u5317\u5e02\u6a39\u6797\u5340\u4e09\u4fca\u8857135\u5df722\u865f"
       ]
      },
      {
       "output_type": "stream",
       "stream": "stdout",
       "text": [
        "\n",
        "\u65b0\u5317\u5e02\u6a39\u6797\u5340\u4e09\u4fca\u885765\u5df736\u865f"
       ]
      },
      {
       "output_type": "stream",
       "stream": "stdout",
       "text": [
        "\n",
        "\u65b0\u5317\u5e02\u6a39\u6797\u5340\u4e09\u4fca\u885765\u5df738\u865f"
       ]
      },
      {
       "output_type": "stream",
       "stream": "stdout",
       "text": [
        "\n",
        "\u65b0\u5317\u5e02\u6a39\u6797\u5340\u4e09\u4fca\u885771\u865f"
       ]
      },
      {
       "output_type": "stream",
       "stream": "stdout",
       "text": [
        "\n",
        "\u65b0\u5317\u5e02\u6a39\u6797\u5340\u4e09\u9f8d\u885786\u865f"
       ]
      },
      {
       "output_type": "stream",
       "stream": "stdout",
       "text": [
        "\n",
        "\u65b0\u5317\u5e02\u6a39\u6797\u5340\u592a\u9806\u885762\u5df71\u5f0436\u865f\u56db\u6a13"
       ]
      },
      {
       "output_type": "stream",
       "stream": "stdout",
       "text": [
        "\n",
        "\u65b0\u5317\u5e02\u6a39\u6797\u5340\u592a\u9806\u885762\u5df71\u5f0436\u865f\u4e94\u6a13"
       ]
      },
      {
       "output_type": "stream",
       "stream": "stdout",
       "text": [
        "\n",
        "\u65b0\u5317\u5e02\u6a39\u6797\u5340\u592a\u9806\u885762\u5df73\u5f0428\u865f\u4e8c\u6a13"
       ]
      },
      {
       "output_type": "stream",
       "stream": "stdout",
       "text": [
        "\n",
        "\u65b0\u5317\u5e02\u6a39\u6797\u5340\u592a\u9806\u885762\u5df73\u5f0432\u865f\u4e94\u6a13"
       ]
      },
      {
       "output_type": "stream",
       "stream": "stdout",
       "text": [
        "\n",
        "\u65b0\u5317\u5e02\u6a39\u6797\u5340\u592a\u9806\u885762\u5df73\u5f0433\u865f\u4e94\u6a13"
       ]
      },
      {
       "output_type": "stream",
       "stream": "stdout",
       "text": [
        "\n",
        "\u65b0\u5317\u5e02\u6a39\u6797\u5340\u592a\u9806\u885762\u5df73\u5f0436\u865f\u4e8c\u6a13"
       ]
      },
      {
       "output_type": "stream",
       "stream": "stdout",
       "text": [
        "\n",
        "\u65b0\u5317\u5e02\u6a39\u6797\u5340\u592a\u9806\u885796\u5df710\u865f"
       ]
      },
      {
       "output_type": "stream",
       "stream": "stdout",
       "text": [
        "\n",
        "\u65b0\u5317\u5e02\u6a39\u6797\u5340\u592a\u9806\u885796\u5df712\u865f\u4e09\u6a13"
       ]
      },
      {
       "output_type": "stream",
       "stream": "stdout",
       "text": [
        "\n",
        "\u65b0\u5317\u5e02\u6a39\u6797\u5340\u592a\u9806\u885796\u5df716\u5f0414\u865f\u56db\u6a13"
       ]
      },
      {
       "output_type": "stream",
       "stream": "stdout",
       "text": [
        "\n",
        "\u65b0\u5317\u5e02\u6a39\u6797\u5340\u592a\u9806\u885796\u5df716\u5f048\u865f\u4e94\u6a13"
       ]
      },
      {
       "output_type": "stream",
       "stream": "stdout",
       "text": [
        "\n",
        "\u65b0\u5317\u5e02\u6a39\u6797\u5340\u592a\u9806\u885796\u5df78\u865f\u4e8c\u6a13"
       ]
      },
      {
       "output_type": "stream",
       "stream": "stdout",
       "text": [
        "\n",
        "\u65b0\u5317\u5e02\u6a39\u6797\u5340\u592a\u9806\u885796\u5df78\u865f\u56db\u6a13"
       ]
      },
      {
       "output_type": "stream",
       "stream": "stdout",
       "text": [
        "\n",
        "\u65b0\u5317\u5e02\u6a39\u6797\u5340\u4e2d\u6b63\u8def213\u865f"
       ]
      },
      {
       "output_type": "stream",
       "stream": "stdout",
       "text": [
        "\n",
        "\u65b0\u5317\u5e02\u6a39\u6797\u5340\u4fca\u8208\u8857246\u865f"
       ]
      },
      {
       "output_type": "stream",
       "stream": "stdout",
       "text": [
        "\n",
        "\u65b0\u5317\u5e02\u6a39\u6797\u5340\u4fca\u8208\u8857250\u865f"
       ]
      },
      {
       "output_type": "stream",
       "stream": "stdout",
       "text": [
        "\n",
        "\u65b0\u5317\u5e02\u6a39\u6797\u5340\u4fca\u8208\u8857254\u865f"
       ]
      },
      {
       "output_type": "stream",
       "stream": "stdout",
       "text": [
        "\n",
        "\u65b0\u5317\u5e02\u8606\u6d32\u5340\u4e09\u6c11\u8def123\u865f\u4e09\u6a13"
       ]
      },
      {
       "output_type": "stream",
       "stream": "stdout",
       "text": [
        "\n",
        "\u65b0\u5317\u5e02\u8606\u6d32\u5340\u6c11\u65cf\u8def151\u865f\u56db\u6a13"
       ]
      },
      {
       "output_type": "stream",
       "stream": "stdout",
       "text": [
        "\n",
        "\u65b0\u5317\u5e02\u8606\u6d32\u5340\u6c11\u65cf\u8def153\u5df71\u865f\u4e09\u6a13"
       ]
      },
      {
       "output_type": "stream",
       "stream": "stdout",
       "text": [
        "\n",
        "\u65b0\u5317\u5e02\u8606\u6d32\u5340\u6c11\u65cf\u8def153\u5df73\u865f\u56db\u6a13"
       ]
      },
      {
       "output_type": "stream",
       "stream": "stdout",
       "text": [
        "\n",
        "\u65b0\u5317\u5e02\u8606\u6d32\u5340\u6c11\u65cf\u8def153\u5df77\u865f\u4e8c\u6a13"
       ]
      },
      {
       "output_type": "stream",
       "stream": "stdout",
       "text": [
        "\n",
        "\u65b0\u5317\u5e02\u8606\u6d32\u5340\u6c11\u65cf\u8def153\u5df78\u865f\u4e94\u6a13"
       ]
      },
      {
       "output_type": "stream",
       "stream": "stdout",
       "text": [
        "\n",
        "\u65b0\u5317\u5e02\u8606\u6d32\u5340\u6c11\u65cf\u8def416\u865f\u4e09\u6a13"
       ]
      },
      {
       "output_type": "stream",
       "stream": "stdout",
       "text": [
        "\n",
        "\u65b0\u5317\u5e02\u8606\u6d32\u5340\u6c11\u65cf\u8def420\u865f\u4e09\u6a13"
       ]
      },
      {
       "output_type": "stream",
       "stream": "stdout",
       "text": [
        "\n",
        "\u65b0\u5317\u5e02\u8606\u6d32\u5340\u6c11\u65cf\u8def420\u865f\u4e94\u6a13"
       ]
      },
      {
       "output_type": "stream",
       "stream": "stdout",
       "text": [
        "\n",
        "\u65b0\u5317\u5e02\u8606\u6d32\u5340\u6c11\u65cf\u8def422\u5df733\u5f046\u865f"
       ]
      },
      {
       "output_type": "stream",
       "stream": "stdout",
       "text": [
        "\n",
        "\u65b0\u5317\u5e02\u8606\u6d32\u5340\u6c11\u65cf\u8def422\u5df733\u5f048\u865f\u4e8c\u6a13"
       ]
      },
      {
       "output_type": "stream",
       "stream": "stdout",
       "text": [
        "\n",
        "\u65b0\u5317\u5e02\u8606\u6d32\u5340\u6c11\u65cf\u8def426\u5df756\u865f\u56db\u6a13"
       ]
      },
      {
       "output_type": "stream",
       "stream": "stdout",
       "text": [
        "\n",
        "\u65b0\u5317\u5e02\u8606\u6d32\u5340\u6c11\u65cf\u8def426\u5df758\u865f\u4e09\u6a13"
       ]
      },
      {
       "output_type": "stream",
       "stream": "stdout",
       "text": [
        "\n",
        "\u65b0\u5317\u5e02\u8606\u6d32\u5340\u6c11\u6b0a\u8def68\u5df71\u865f\u4e8c\u6a13"
       ]
      },
      {
       "output_type": "stream",
       "stream": "stdout",
       "text": [
        "\n",
        "\u65b0\u5317\u5e02\u8606\u6d32\u5340\u6c11\u6b0a\u8def68\u5df75\u865f\u4e8c\u6a13"
       ]
      },
      {
       "output_type": "stream",
       "stream": "stdout",
       "text": [
        "\n",
        "\u65b0\u5317\u5e02\u8606\u6d32\u5340\u6c11\u6b0a\u8def68\u5df77\u865f\u56db\u6a13"
       ]
      },
      {
       "output_type": "stream",
       "stream": "stdout",
       "text": [
        "\n",
        "\u65b0\u5317\u5e02\u8606\u6d32\u5340\u6c11\u6b0a\u8def68\u5df79\u865f\u4e09\u6a13"
       ]
      },
      {
       "output_type": "stream",
       "stream": "stdout",
       "text": [
        "\n",
        "\u65b0\u5317\u5e02\u8606\u6d32\u5340\u6210\u529f\u8def54\u865f\u4e94\u6a13"
       ]
      },
      {
       "output_type": "stream",
       "stream": "stdout",
       "text": [
        "\n",
        "\u65b0\u5317\u5e02\u8606\u6d32\u5340\u4fe1\u7fa9\u8def59\u5df79\u865f\u4e8c\u6a13"
       ]
      },
      {
       "output_type": "stream",
       "stream": "stdout",
       "text": [
        "\n",
        "\u57fa\u9686\u5e02\u5b89\u6a02\u5340\u5b89\u6a02\u8def\u4e00\u6bb5143\u865f\u4e09\u6a13"
       ]
      },
      {
       "output_type": "stream",
       "stream": "stdout",
       "text": [
        "\n",
        "\u57fa\u9686\u5e02\u5b89\u6a02\u5340\u5b89\u6a02\u8def\u4e00\u6bb5145\u865f\u56db\u6a13"
       ]
      },
      {
       "output_type": "stream",
       "stream": "stdout",
       "text": [
        "\n",
        "\u6843\u5712\u7e23\u516b\u5fb7\u5e02\u4e2d\u83ef\u8def265\u5df711\u4e4b4\u865f"
       ]
      },
      {
       "output_type": "stream",
       "stream": "stdout",
       "text": [
        "\n",
        "\u6843\u5712\u7e23\u516b\u5fb7\u5e02\u4e2d\u83ef\u8def265\u5df71\u4e4b1\u865f"
       ]
      },
      {
       "output_type": "stream",
       "stream": "stdout",
       "text": [
        "\n",
        "\u6843\u5712\u7e23\u516b\u5fb7\u5e02\u4e2d\u83ef\u8def265\u5df71\u865f"
       ]
      },
      {
       "output_type": "stream",
       "stream": "stdout",
       "text": [
        "\n",
        "\u6843\u5712\u7e23\u516b\u5fb7\u5e02\u4e2d\u83ef\u8def265\u5df79\u4e4b4\u865f"
       ]
      },
      {
       "output_type": "stream",
       "stream": "stdout",
       "text": [
        "\n",
        "\u6843\u5712\u7e23\u516b\u5fb7\u5e02\u5ee3\u9686\u885765\u5df719\u865f"
       ]
      },
      {
       "output_type": "stream",
       "stream": "stdout",
       "text": [
        "\n",
        "\u6843\u5712\u7e23\u5927\u6eaa\u93ae\u6c11\u6b0a\u6771\u8def31\u5df75\u865f\u56db\u6a13"
       ]
      },
      {
       "output_type": "stream",
       "stream": "stdout",
       "text": [
        "\n",
        "\u6843\u5712\u7e23\u5927\u6eaa\u93ae\u6c11\u6b0a\u6771\u8def31\u5df77\u865f\u56db\u6a13"
       ]
      },
      {
       "output_type": "stream",
       "stream": "stdout",
       "text": [
        "\n",
        "\u6843\u5712\u7e23\u5927\u6eaa\u93ae\u6c11\u6b0a\u6771\u8def31\u5df77\u865f\u4e94\u6a13"
       ]
      },
      {
       "output_type": "stream",
       "stream": "stdout",
       "text": [
        "\n",
        "\u6843\u5712\u7e23\u5927\u6eaa\u93ae\u6c11\u6b0a\u6771\u8def31\u5df79\u5f041\u865f\u56db\u6a13"
       ]
      },
      {
       "output_type": "stream",
       "stream": "stdout",
       "text": [
        "\n",
        "\u6843\u5712\u7e23\u9f8d\u6f6d\u9109\u4e2d\u8208\u8def63\u5df714\u5f041\u885610\u865f\u56db\u6a13"
       ]
      },
      {
       "output_type": "stream",
       "stream": "stdout",
       "text": [
        "\n",
        "\u6843\u5712\u7e23\u9f8d\u6f6d\u9109\u4e2d\u8208\u8def63\u5df714\u5f041\u885612\u865f\u4e09\u6a13"
       ]
      },
      {
       "output_type": "stream",
       "stream": "stdout",
       "text": [
        "\n",
        "\u6843\u5712\u7e23\u9f8d\u6f6d\u9109\u4e2d\u8208\u8def63\u5df714\u5f041\u88561\u865f\u4e09\u6a13"
       ]
      },
      {
       "output_type": "stream",
       "stream": "stdout",
       "text": [
        "\n",
        "\u6843\u5712\u7e23\u9f8d\u6f6d\u9109\u4e2d\u8208\u8def63\u5df714\u5f041\u88564\u865f\u56db\u6a13"
       ]
      },
      {
       "output_type": "stream",
       "stream": "stdout",
       "text": [
        "\n",
        "\u6843\u5712\u7e23\u4e2d\u58e2\u5e02\u4e2d\u660e\u8def126\u865f\u4e09\u6a13"
       ]
      },
      {
       "output_type": "stream",
       "stream": "stdout",
       "text": [
        "\n",
        "\u6843\u5712\u7e23\u4e2d\u58e2\u5e02\u4e2d\u660e\u8def126\u865f\u56db\u6a13"
       ]
      },
      {
       "output_type": "stream",
       "stream": "stdout",
       "text": [
        "\n",
        "\u6843\u5712\u7e23\u4e2d\u58e2\u5e02\u4e2d\u660e\u8def130\u865f\u4e94\u6a13"
       ]
      },
      {
       "output_type": "stream",
       "stream": "stdout",
       "text": [
        "\n",
        "\u6843\u5712\u7e23\u4e2d\u58e2\u5e02\u4e2d\u8c50\u8def68\u865f"
       ]
      },
      {
       "output_type": "stream",
       "stream": "stdout",
       "text": [
        "\n",
        "\u6843\u5712\u7e23\u4e2d\u58e2\u5e02\u4e94\u5149\u4e09\u885754\u865f\u4e09\u6a13"
       ]
      },
      {
       "output_type": "stream",
       "stream": "stdout",
       "text": [
        "\n",
        "\u6843\u5712\u7e23\u4e2d\u58e2\u5e02\u4e94\u5149\u4e09\u885754\u865f\u4e94\u6a13"
       ]
      },
      {
       "output_type": "stream",
       "stream": "stdout",
       "text": [
        "\n",
        "\u6843\u5712\u7e23\u4e2d\u58e2\u5e02\u4e94\u5149\u4e09\u885754\u865f\u56db\u6a13"
       ]
      },
      {
       "output_type": "stream",
       "stream": "stdout",
       "text": [
        "\n",
        "\u6843\u5712\u7e23\u4e2d\u58e2\u5e02\u4e94\u5149\u4e09\u885756\u865f\u4e8c\u6a13"
       ]
      },
      {
       "output_type": "stream",
       "stream": "stdout",
       "text": [
        "\n",
        "\u6843\u5712\u7e23\u4e2d\u58e2\u5e02\u4e94\u5149\u4e09\u885758\u5df710\u865f\u4e94\u6a13"
       ]
      },
      {
       "output_type": "stream",
       "stream": "stdout",
       "text": [
        "\n",
        "\u6843\u5712\u7e23\u4e2d\u58e2\u5e02\u4e94\u5149\u4e09\u885758\u5df710\u865f\u56db\u6a13"
       ]
      },
      {
       "output_type": "stream",
       "stream": "stdout",
       "text": [
        "\n",
        "\u6843\u5712\u7e23\u4e2d\u58e2\u5e02\u4e94\u5149\u4e09\u885758\u5df73\u865f\u4e94\u6a13"
       ]
      },
      {
       "output_type": "stream",
       "stream": "stdout",
       "text": [
        "\n",
        "\u6843\u5712\u7e23\u4e2d\u58e2\u5e02\u4e94\u5149\u4e09\u885758\u5df76\u865f\u4e94\u6a13"
       ]
      },
      {
       "output_type": "stream",
       "stream": "stdout",
       "text": [
        "\n",
        "\u6843\u5712\u7e23\u4e2d\u58e2\u5e02\u4e94\u5149\u4e09\u885758\u5df76\u865f\u56db\u6a13"
       ]
      },
      {
       "output_type": "stream",
       "stream": "stdout",
       "text": [
        "\n",
        "\u6843\u5712\u7e23\u4e2d\u58e2\u5e02\u4e94\u5149\u4e09\u885758\u5df78\u865f\u4e8c\u6a13"
       ]
      },
      {
       "output_type": "stream",
       "stream": "stdout",
       "text": [
        "\n",
        "\u6843\u5712\u7e23\u4e2d\u58e2\u5e02\u4e94\u5149\u4e09\u885762\u5df74\u865f\u56db\u6a13"
       ]
      },
      {
       "output_type": "stream",
       "stream": "stdout",
       "text": [
        "\n",
        "\u6843\u5712\u7e23\u4e2d\u58e2\u5e02\u5143\u5316\u8def2\u4e4b16\u865f"
       ]
      },
      {
       "output_type": "stream",
       "stream": "stdout",
       "text": [
        "\n",
        "\u6843\u5712\u7e23\u4e2d\u58e2\u5e02\u9f8d\u5ca1\u8def\u4e00\u6bb557\u865f"
       ]
      },
      {
       "output_type": "stream",
       "stream": "stdout",
       "text": [
        "\n",
        "\u6843\u5712\u7e23\u5e73\u93ae\u5e02\u5ef6\u5e73\u8def\u4e09\u6bb567\u865f"
       ]
      },
      {
       "output_type": "stream",
       "stream": "stdout",
       "text": [
        "\n",
        "\u6843\u5712\u7e23\u5e73\u93ae\u5e02\u9577\u5b89\u8def1\u5df733\u4e4b3\u865f"
       ]
      },
      {
       "output_type": "stream",
       "stream": "stdout",
       "text": [
        "\n",
        "\u6843\u5712\u7e23\u5e73\u93ae\u5e02\u9577\u5b89\u8def1\u5df741\u4e4b4\u865f"
       ]
      },
      {
       "output_type": "stream",
       "stream": "stdout",
       "text": [
        "\n",
        "\u6843\u5712\u7e23\u5e73\u93ae\u5e02\u5d07\u5fb7\u885713\u5df71\u5f0416\u865f"
       ]
      },
      {
       "output_type": "stream",
       "stream": "stdout",
       "text": [
        "\n",
        "\u6843\u5712\u7e23\u5e73\u93ae\u5e02\u5d07\u5fb7\u885713\u5df71\u5f0418\u865f"
       ]
      },
      {
       "output_type": "stream",
       "stream": "stdout",
       "text": [
        "\n",
        "\u6843\u5712\u7e23\u5e73\u93ae\u5e02\u8392\u5149\u8def13\u5df725\u5f044\u4e4b2\u865f"
       ]
      },
      {
       "output_type": "stream",
       "stream": "stdout",
       "text": [
        "\n",
        "\u6843\u5712\u7e23\u5e73\u93ae\u5e02\u8392\u5149\u8def13\u5df725\u5f045\u865f"
       ]
      },
      {
       "output_type": "stream",
       "stream": "stdout",
       "text": [
        "\n",
        "\u6843\u5712\u7e23\u5e73\u93ae\u5e02\u65b0\u69ae\u8def341\u5df714\u865f"
       ]
      },
      {
       "output_type": "stream",
       "stream": "stdout",
       "text": [
        "\n",
        "\u6843\u5712\u7e23\u5e73\u93ae\u5e02\u65b0\u8208\u8def130\u5df72\u865f"
       ]
      },
      {
       "output_type": "stream",
       "stream": "stdout",
       "text": [
        "\n",
        "\u6843\u5712\u7e23\u5e73\u93ae\u5e02\u5ee3\u6771\u8def41\u865f"
       ]
      },
      {
       "output_type": "stream",
       "stream": "stdout",
       "text": [
        "\n",
        "\u6843\u5712\u7e23\u5e73\u93ae\u5e02\u74b0\u5357\u8def301\u5df712\u5f0425\u865f"
       ]
      },
      {
       "output_type": "stream",
       "stream": "stdout",
       "text": [
        "\n",
        "\u6843\u5712\u7e23\u6843\u5712\u5e02\u4e09\u6c11\u8def\u4e09\u6bb5176\u4e4b5\u865f"
       ]
      },
      {
       "output_type": "stream",
       "stream": "stdout",
       "text": [
        "\n",
        "\u6843\u5712\u7e23\u6843\u5712\u5e02\u4e09\u6c11\u8def\u4e09\u6bb5178\u4e4b8\u865f"
       ]
      },
      {
       "output_type": "stream",
       "stream": "stdout",
       "text": [
        "\n",
        "\u6843\u5712\u7e23\u6843\u5712\u5e02\u5317\u83ef\u885751\u865f"
       ]
      },
      {
       "output_type": "stream",
       "stream": "stdout",
       "text": [
        "\n",
        "\u6843\u5712\u7e23\u6843\u5712\u5e02\u5bf6\u6176\u8def292\u865f"
       ]
      },
      {
       "output_type": "stream",
       "stream": "stdout",
       "text": [
        "\n",
        "\u6843\u5712\u7e23\u6843\u5712\u5e02\u5927\u8208\u897f\u8def\u4e09\u6bb5156\u5df716\u865f"
       ]
      },
      {
       "output_type": "stream",
       "stream": "stdout",
       "text": [
        "\n",
        "\u6843\u5712\u7e23\u6843\u5712\u5e02\u4e2d\u6b63\u8def1535\u5df799\u865f"
       ]
      },
      {
       "output_type": "stream",
       "stream": "stdout",
       "text": [
        "\n",
        "\u6843\u5712\u7e23\u6843\u5712\u5e02\u9577\u58fd\u88579\u865f"
       ]
      },
      {
       "output_type": "stream",
       "stream": "stdout",
       "text": [
        "\n",
        "\u6843\u5712\u7e23\u6843\u5712\u5e02\u798f\u5c71\u885762\u5df712\u4e4b2\u865f"
       ]
      },
      {
       "output_type": "stream",
       "stream": "stdout",
       "text": [
        "\n",
        "\u6843\u5712\u7e23\u6843\u5712\u5e02\u798f\u5c71\u885762\u5df74\u4e4b3\u865f"
       ]
      },
      {
       "output_type": "stream",
       "stream": "stdout",
       "text": [
        "\n",
        "\u6843\u5712\u7e23\u6843\u5712\u5e02\u798f\u5c71\u885762\u5df76\u4e4b3\u865f"
       ]
      },
      {
       "output_type": "stream",
       "stream": "stdout",
       "text": [
        "\n",
        "\u6843\u5712\u7e23\u6843\u5712\u5e02\u9f8d\u58fd\u885740\u865f\u4e8c\u6a13"
       ]
      },
      {
       "output_type": "stream",
       "stream": "stdout",
       "text": [
        "\n",
        "\u6843\u5712\u7e23\u6843\u5712\u5e02\u9f8d\u58fd\u885742\u865f\u56db\u6a13"
       ]
      },
      {
       "output_type": "stream",
       "stream": "stdout",
       "text": [
        "\n",
        "\u6843\u5712\u7e23\u6843\u5712\u5e02\u9f8d\u58fd\u885746\u5df71\u5f0410\u865f\u4e94\u6a13"
       ]
      },
      {
       "output_type": "stream",
       "stream": "stdout",
       "text": [
        "\n",
        "\u6843\u5712\u7e23\u6843\u5712\u5e02\u9f8d\u58fd\u885746\u5df71\u5f041\u865f\u4e00\u6a13"
       ]
      },
      {
       "output_type": "stream",
       "stream": "stdout",
       "text": [
        "\n",
        "\u6843\u5712\u7e23\u6843\u5712\u5e02\u9f8d\u58fd\u885746\u5df71\u5f041\u865f\u4e8c\u6a13"
       ]
      },
      {
       "output_type": "stream",
       "stream": "stdout",
       "text": [
        "\n",
        "\u6843\u5712\u7e23\u6843\u5712\u5e02\u9f8d\u58fd\u885746\u5df71\u5f042\u865f\u4e8c\u6a13"
       ]
      },
      {
       "output_type": "stream",
       "stream": "stdout",
       "text": [
        "\n",
        "\u6843\u5712\u7e23\u6843\u5712\u5e02\u9f8d\u58fd\u885746\u5df71\u5f043\u865f\u4e8c\u6a13"
       ]
      },
      {
       "output_type": "stream",
       "stream": "stdout",
       "text": [
        "\n",
        "\u6843\u5712\u7e23\u6843\u5712\u5e02\u9f8d\u58fd\u885746\u5df71\u5f043\u865f\u56db\u6a13"
       ]
      },
      {
       "output_type": "stream",
       "stream": "stdout",
       "text": [
        "\n",
        "\u6843\u5712\u7e23\u6843\u5712\u5e02\u9f8d\u58fd\u885746\u5df71\u5f044\u865f\u56db\u6a13"
       ]
      },
      {
       "output_type": "stream",
       "stream": "stdout",
       "text": [
        "\n",
        "\u6843\u5712\u7e23\u6843\u5712\u5e02\u9f8d\u58fd\u885746\u5df71\u5f047\u865f\u4e94\u6a13"
       ]
      },
      {
       "output_type": "stream",
       "stream": "stdout",
       "text": [
        "\n",
        "\u6843\u5712\u7e23\u6843\u5712\u5e02\u9f8d\u58fd\u885752\u865f\u4e8c\u6a13"
       ]
      },
      {
       "output_type": "stream",
       "stream": "stdout",
       "text": [
        "\n",
        "\u6843\u5712\u7e23\u6843\u5712\u5e02\u9f8d\u58fd\u885754\u865f\u4e09\u6a13"
       ]
      },
      {
       "output_type": "stream",
       "stream": "stdout",
       "text": [
        "\n",
        "\u6843\u5712\u7e23\u6843\u5712\u5e02\u9f8d\u58fd\u885754\u865f\u56db\u6a13"
       ]
      },
      {
       "output_type": "stream",
       "stream": "stdout",
       "text": [
        "\n",
        "\u6843\u5712\u7e23\u6843\u5712\u5e02\u9f8d\u58fd\u885756\u4e4b1\u865f\u4e09\u6a13"
       ]
      },
      {
       "output_type": "stream",
       "stream": "stdout",
       "text": [
        "\n",
        "\u6843\u5712\u7e23\u6843\u5712\u5e02\u9f8d\u58fd\u885756\u4e4b2\u865f\u4e09\u6a13"
       ]
      },
      {
       "output_type": "stream",
       "stream": "stdout",
       "text": [
        "\n",
        "\u6843\u5712\u7e23\u9f9c\u5c71\u9109\u5e78\u798f\u4e8c\u5341\u4e5d\u88579\u865f\u4e8c\u6a13"
       ]
      },
      {
       "output_type": "stream",
       "stream": "stdout",
       "text": [
        "\n",
        "\u6843\u5712\u7e23\u9f9c\u5c71\u9109\u5e78\u798f\u4e8c\u5341\u4e5d\u885732\u865f\u4e09\u6a13"
       ]
      },
      {
       "output_type": "stream",
       "stream": "stdout",
       "text": [
        "\n",
        "\u6843\u5712\u7e23\u9f9c\u5c71\u9109\u5e78\u798f\u4e09\u5341\u4e00\u885715\u865f\u4e09\u6a13"
       ]
      },
      {
       "output_type": "stream",
       "stream": "stdout",
       "text": [
        "\n",
        "\u6843\u5712\u7e23\u9f9c\u5c71\u9109\u5e78\u798f\u4e09\u5341\u4e00\u885734\u865f\u4e09\u6a13"
       ]
      },
      {
       "output_type": "stream",
       "stream": "stdout",
       "text": [
        "\n",
        "\u6843\u5712\u7e23\u9f9c\u5c71\u9109\u5e78\u798f\u4e09\u5341\u4e00\u885735\u865f"
       ]
      },
      {
       "output_type": "stream",
       "stream": "stdout",
       "text": [
        "\n",
        "\u6843\u5712\u7e23\u9f9c\u5c71\u9109\u5e78\u798f\u885734\u865f\u56db\u6a13"
       ]
      },
      {
       "output_type": "stream",
       "stream": "stdout",
       "text": [
        "\n",
        "\u6843\u5712\u7e23\u9f9c\u5c71\u9109\u660e\u5fb7\u8def18\u865f"
       ]
      },
      {
       "output_type": "stream",
       "stream": "stdout",
       "text": [
        "\n",
        "\u6843\u5712\u7e23\u9f9c\u5c71\u9109\u83ef\u7f8e\u4e8c\u885712\u865f"
       ]
      },
      {
       "output_type": "stream",
       "stream": "stdout",
       "text": [
        "\n",
        "\u6843\u5712\u7e23\u9f9c\u5c71\u9109\u83ef\u7f8e\u8857150\u865f"
       ]
      },
      {
       "output_type": "stream",
       "stream": "stdout",
       "text": [
        "\n",
        "\u6843\u5712\u7e23\u9f9c\u5c71\u9109\u4e2d\u548c\u5357\u8def59\u865f"
       ]
      },
      {
       "output_type": "stream",
       "stream": "stdout",
       "text": [
        "\n",
        "\u6843\u5712\u7e23\u694a\u6885\u5e02\u694a\u65b0\u5317\u8def21\u5df71\u5f0485\u865f"
       ]
      },
      {
       "output_type": "stream",
       "stream": "stdout",
       "text": [
        "\n"
       ]
      }
     ],
     "prompt_number": 225
    },
    {
     "cell_type": "code",
     "collapsed": false,
     "input": [
      "with open(\"data/suspect_w_coord.csv\", \"wb\") as f:\n",
      "    f.write(\"id,date,address,long,lat\\n\")\n",
      "    for row in xrange(len(s_radds_list)):\n",
      "        r1 = s_radds_list[row][0]\n",
      "        r2 = s_radds_list[row][1]\n",
      "        r3 = s_radds_list[row][2]\n",
      "        r4 = s_radds_list[row][3]\n",
      "        r5 = s_radds_list[row][4]\n",
      "        f.write(str(r1)+\",\"+r2+\",\"+r3+\",\"+str(r4)+\",\"+str(r5)+\"\\n\")"
     ],
     "language": "python",
     "metadata": {},
     "outputs": [],
     "prompt_number": 314
    },
    {
     "cell_type": "code",
     "collapsed": false,
     "input": [],
     "language": "python",
     "metadata": {},
     "outputs": []
    }
   ],
   "metadata": {}
  }
 ]
}